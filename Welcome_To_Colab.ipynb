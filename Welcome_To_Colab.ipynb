{
  "cells": [
    {
      "cell_type": "markdown",
      "source": [
        "https://docs.python.org/3/library/xml.etree.elementtree.html"
      ],
      "metadata": {
        "id": "ZuKubPNQSj8_"
      }
    },
    {
      "cell_type": "code",
      "source": [
        "print('hello world')"
      ],
      "metadata": {
        "id": "GCxQs3z_PU3H"
      },
      "execution_count": null,
      "outputs": []
    },
    {
      "cell_type": "code",
      "source": [
        "import xml.etree.ElementTree as ET\n",
        "tree = ET.fromstring('<data>    <country name=\"Liechtenstein\">        <rank>1</rank>        <year>2008</year>        <gdppc>141100</gdppc>        <neighbor name=\"Austria\" direction=\"E\"/>        <neighbor name=\"Switzerland\" direction=\"W\"/>    </country></data>')"
      ],
      "metadata": {
        "id": "4aj8bS-1PpRT"
      },
      "execution_count": 3,
      "outputs": []
    },
    {
      "cell_type": "code",
      "source": [
        "tree.tag"
      ],
      "metadata": {
        "colab": {
          "base_uri": "https://localhost:8080/",
          "height": 35
        },
        "id": "9bjg-cviQMj3",
        "outputId": "e1310b3f-a944-42b8-aa75-27066816a52d"
      },
      "execution_count": 4,
      "outputs": [
        {
          "output_type": "execute_result",
          "data": {
            "text/plain": [
              "'data'"
            ],
            "application/vnd.google.colaboratory.intrinsic+json": {
              "type": "string"
            }
          },
          "metadata": {},
          "execution_count": 4
        }
      ]
    },
    {
      "cell_type": "code",
      "source": [
        "from random import random\n",
        "random()"
      ],
      "metadata": {
        "colab": {
          "base_uri": "https://localhost:8080/"
        },
        "id": "pxPgDSk6Rryh",
        "outputId": "d22baf01-384d-4f06-b81c-8a28441157f5"
      },
      "execution_count": 7,
      "outputs": [
        {
          "output_type": "execute_result",
          "data": {
            "text/plain": [
              "0.6686987339348855"
            ]
          },
          "metadata": {},
          "execution_count": 7
        }
      ]
    },
    {
      "cell_type": "code",
      "source": [
        "class StrategyProfile:\n",
        "  def __init__(self, name):\n",
        "    self.name = name\n",
        "\n",
        "\n",
        "def GetStrategyProfile(strategy_profile_xml):\n",
        "  return StrategyProfile('random')\n",
        "\n",
        "\n",
        "def GenerateTask(strategy_profile):\n",
        "  print(strategy_profile.name)\n"
      ],
      "metadata": {
        "id": "F_3rkbZjdF5F"
      },
      "execution_count": 9,
      "outputs": []
    },
    {
      "cell_type": "code",
      "source": [
        "s = GetStrategyProfile('')\n",
        "GenerateTask(s)"
      ],
      "metadata": {
        "colab": {
          "base_uri": "https://localhost:8080/"
        },
        "id": "mS94IHaSo515",
        "outputId": "c894a8be-e1c7-4391-9570-6c38df2a1838"
      },
      "execution_count": 10,
      "outputs": [
        {
          "output_type": "stream",
          "name": "stdout",
          "text": [
            "random\n"
          ]
        }
      ]
    }
  ],
  "metadata": {
    "colab": {
      "name": "Welcome To Colab",
      "provenance": []
    },
    "kernelspec": {
      "display_name": "Python 3",
      "name": "python3"
    }
  },
  "nbformat": 4,
  "nbformat_minor": 0
}